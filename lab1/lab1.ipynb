{
 "cells": [
  {
   "cell_type": "markdown",
   "id": "c1666ebb-b3c1-4f56-8942-cf08f9e21088",
   "metadata": {},
   "source": [
    "## Zadania z programowania w języku Java"
   ]
  },
  {
   "cell_type": "markdown",
   "id": "e8f25ca1-302e-488f-8432-ca5541869870",
   "metadata": {},
   "source": [
    "### Laboratorium 1. Interfejsy i wyrazenia lambda\n",
    "#### Kateryna Kolioglo"
   ]
  },
  {
   "cell_type": "markdown",
   "id": "101ce365-9ca0-467f-949b-c4614c489ec7",
   "metadata": {},
   "source": [
    "1. Utwórz interfejs `Measurable` z metodą double `getMeasure()`, która dostarcza jakąś metrykę obiektu. Zaimplementuj interfejs `Measurable` w klasie `Employee`. Utwórz metodę **double** `average(Measurable[] objects)`, która oblicza średnią metryk. Wykorzystaj ją do obliczenia średniego wynagrodzenia pracowników, których dane są zapisane w tablicy."
   ]
  },
  {
   "cell_type": "code",
   "execution_count": 9,
   "id": "3cde6d7d-2588-43ff-b7eb-b6cbd0ec92aa",
   "metadata": {},
   "outputs": [],
   "source": [
    "//zadanie 1\n",
    "\n",
    "interface Measurable {\n",
    "    double getMeasure();\n",
    "}\n",
    "\n",
    "class Employee implements Measurable {\n",
    "    private String name;\n",
    "    private double salary;\n",
    "\n",
    "    public Employee(java.lang.String name, double salary) { //dla jupyter\n",
    "        this.name = name;\n",
    "        this.salary = salary;\n",
    "    }\n",
    "\n",
    "    public double getMeasure() {\n",
    "        return salary;\n",
    "    }\n",
    "\n",
    "    public String getName() {\n",
    "        return name;\n",
    "    }\n",
    "}\n",
    "\n",
    "public class ex1 {\n",
    "    public static void main(String[] args) { \n",
    "        Employee[] employees = {\n",
    "                new Employee(\"Tetiana Simonova\", 3800),\n",
    "                new Employee(\"Olena Golis\", 4200),\n",
    "                new Employee(\"Alicja Krol\", 5600)\n",
    "        };\n",
    "\n",
    "        double averageSalary = ex1.average(employees);\n",
    "        System.out.printf(\"Average Salary: %.3f%n\", averageSalary);\n",
    "    }\n",
    "\n",
    "    public static double average(Measurable[] objects) {\n",
    "        if (objects == null || objects.length == 0) {\n",
    "            return 0.0;\n",
    "        }\n",
    "        double sum = 0;\n",
    "        for (Measurable obj : objects) {\n",
    "            sum += obj.getMeasure();\n",
    "        }\n",
    "        return sum / objects.length;\n",
    "    }\n",
    "}"
   ]
  },
  {
   "cell_type": "code",
   "execution_count": 10,
   "id": "dd14c8cf-4687-4aea-a8e5-ac29b402a3a6",
   "metadata": {},
   "outputs": [
    {
     "name": "stdout",
     "output_type": "stream",
     "text": [
      "Average Salary: 4533,333\n"
     ]
    }
   ],
   "source": [
    "ex1.main(null)"
   ]
  },
  {
   "cell_type": "markdown",
   "id": "1b44c742-494b-4c02-b6a8-63ea0580d981",
   "metadata": {},
   "source": [
    "2. Kontynuując poprzednie ćwiczenie, utwórz metodę **Measurable largest(Measurable[] objects)**.\n",
    "Wykorzystaj ją do ustalenia nazwiska pracownika z najwyzszym wynagrodzeniem. Do czego zostanie użyte rzutowanie?"
   ]
  },
  {
   "cell_type": "code",
   "execution_count": 11,
   "id": "2a6ea9fd-ea26-4b54-bd76-bd48b7d44a1a",
   "metadata": {},
   "outputs": [],
   "source": [
    "//zadanie 1+2\n",
    "\n",
    "interface Measurable {\n",
    "    double getMeasure();\n",
    "}\n",
    "\n",
    "class Employee implements Measurable {\n",
    "    private java.lang.String name; //dla jupyter\n",
    "    private double salary;\n",
    "\n",
    "    public Employee(java.lang.String name, double salary) { //dla jupyter\n",
    "        this.name = name;\n",
    "        this.salary = salary;\n",
    "    }\n",
    "\n",
    "    @Override\n",
    "    public double getMeasure() {\n",
    "        return salary;\n",
    "    }\n",
    "\n",
    "    public java.lang.String getName() { //dla jupyter\n",
    "        return name;\n",
    "    }\n",
    "}\n",
    "\n",
    "public class ex1_2 {\n",
    "    // dla zadania 1\n",
    "    public static double average(Measurable[] objects) {\n",
    "        if (objects == null || objects.length == 0) {\n",
    "            return 0.0;\n",
    "        }\n",
    "\n",
    "        double sum = 0.0;\n",
    "        for (Measurable obj : objects) {\n",
    "            sum += obj.getMeasure();\n",
    "        }\n",
    "\n",
    "        return sum / objects.length;\n",
    "    }\n",
    "\n",
    "    // dla zadania 2\n",
    "    public static Measurable largest(Measurable[] objects) {\n",
    "        if (objects == null || objects.length == 0) {\n",
    "            return null;\n",
    "        }\n",
    "\n",
    "        Measurable largest = objects[0];\n",
    "        for (Measurable obj : objects) {\n",
    "            if (obj.getMeasure() > largest.getMeasure()) {\n",
    "                largest = obj;\n",
    "            }\n",
    "        }\n",
    "\n",
    "        return largest;\n",
    "    }\n",
    "\n",
    "    public static void main(String[] args) {\n",
    "        Employee[] employees = {\n",
    "                new Employee(\"Tetiana Simonova\", 3800),\n",
    "                new Employee(\"Olena Golis\", 4200),\n",
    "                new Employee(\"Alicja Krol\", 5600)\n",
    "        };\n",
    "\n",
    "        // dodawanie do zadania 1\n",
    "        double averageSalary = ex1_2.average(employees);\n",
    "        System.out.printf(\"Average Salary: %.3f%n\", averageSalary);\n",
    "\n",
    "        // do zadania 2\n",
    "        Measurable employeeWithLargestSalary = ex1_2.largest(employees);\n",
    "        System.out.println(\"Employee with the Largest Salary: \" + ((Employee) employeeWithLargestSalary).getName());\n",
    "    }\n",
    "}\n"
   ]
  },
  {
   "cell_type": "code",
   "execution_count": 12,
   "id": "6bbadcfb-ece6-4004-bbcd-d8a9c5ff7f20",
   "metadata": {},
   "outputs": [
    {
     "name": "stdout",
     "output_type": "stream",
     "text": [
      "Average Salary: 4533,333\n",
      "Employee with the Largest Salary: Alicja Krol\n"
     ]
    }
   ],
   "source": [
    "ex1_2.main(null)"
   ]
  },
  {
   "cell_type": "markdown",
   "id": "db3a9985-1911-4aa2-b91e-29cc4f19ee8a",
   "metadata": {},
   "source": [
    "3. Jaki jest typ nadrzędny dla typu `String`? Dla typu `Scanner`? Dla typu `ImageOutputStream`?\n",
    "Zauwazmy, że każdy typ jest swoim własnym nadtypem. Klasa lub interfejs bez zadeklarowanego typu nadrzędnego otrzymuje jako typ nadrzędny kasę `Object`.t"
   ]
  },
  {
   "cell_type": "markdown",
   "id": "8fd8fc04-ea39-441e-993d-09bc657ce749",
   "metadata": {},
   "source": [
    "Dokładnie, każda klasa w Javie, która nie jawnie rozszerza innej klasy, automatycznie dziedziczy z klasy `Object`. Oznacza to, że:\n",
    "\n",
    "1. Typ nadrzędny dla typu `String` jest `Object`.\n",
    "2. Typ nadrzędny dla typu `Scanner` również jest `Object`.\n",
    "3. Typ nadrzędny dla typu `ImageOutputStream` to również `Object`.\n",
    "   \n",
    "Oto jak to wygląda w kodzie:zie:"
   ]
  },
  {
   "cell_type": "code",
   "execution_count": 20,
   "id": "a3fd948e-f406-4678-99fd-fe5028578a2e",
   "metadata": {},
   "outputs": [],
   "source": [
    "// Typ nadrzędny dla String\n",
    "public class String extends Object {\n",
    "    // Implementacja klasy String\n",
    "}\n",
    "\n",
    "// Typ nadrzędny dla Scanner\n",
    "public class Scanner extends Object {\n",
    "    // Implementacja klasy Scanner\n",
    "}\n",
    "\n",
    "// Typ nadrzędny dla ImageOutputStream\n",
    "public class ImageOutputStream extends Object {\n",
    "    // Implementacja klasy ImageOutputStream\n",
    "}"
   ]
  },
  {
   "cell_type": "markdown",
   "id": "5dfb20d7-b09f-4a42-999f-c059e32befa0",
   "metadata": {},
   "source": [
    "Ponieważ klasy `String`, `Scanner`, i `ImageOutputStream` nie rozszerzają innych klas, automatycznie dziedziczą z klasy **Object**."
   ]
  },
  {
   "cell_type": "markdown",
   "id": "46a61ec4-df10-4911-9a3f-c0ad12b7a1d5",
   "metadata": {},
   "source": [
    "4. (a) W klasie `IntSequenceiClass`, która implementuje interfejs `IntSequence` ze slajdu nr 21 zaimplementuj statyczną metodę\n",
    "   \n",
    "    **public static** of(**int**...),\n",
    "\n",
    "    która zwraca ciąg argumentów. Przykładowo, wywołanie `IntSequenceClass.of(3, 1, 4, 1, 5, 9)` zwraca instancję клasy `IntSequenceClass` przechowującą ciąg sześciu wartości. Kolejne wywołania metody `next` zwracają kolejne liczby przechowywane w tej instancji."
   ]
  },
  {
   "cell_type": "code",
   "execution_count": 15,
   "id": "4dbd041b-2816-4099-98ac-34098035f023",
   "metadata": {},
   "outputs": [],
   "source": [
    "interface IntSequence {\n",
    "    boolean hasNext();\n",
    "\n",
    "    int next();\n",
    "\n",
    "    static IntSequence of(int... values) {\n",
    "        return new IntSequence() {\n",
    "            private int index = 0;\n",
    "\n",
    "            public boolean hasNext() {\n",
    "                return index < values.length;\n",
    "            }\n",
    "\n",
    "            public int next() {\n",
    "                if (!hasNext()) {\n",
    "                    throw new IllegalStateException(\"No more elements\");\n",
    "                }\n",
    "                return values[index++];\n",
    "            }\n",
    "        };\n",
    "    }\n",
    "}\n",
    "\n",
    "public class ex4a implements IntSequence {\n",
    "    private int[] sequence;\n",
    "    private int index;\n",
    "\n",
    "    public ex4a(int... sequence) {\n",
    "        this.sequence = sequence;\n",
    "        index = 0;\n",
    "    }\n",
    "\n",
    "    public boolean hasNext() {\n",
    "        return index < sequence.length;\n",
    "    }\n",
    "\n",
    "    public int next() {\n",
    "        if (!hasNext()) {\n",
    "            throw new IllegalStateException(\"No more elements\");\n",
    "        }\n",
    "        return sequence[index++];\n",
    "    }\n",
    "\n",
    "    public static void main(String[] args) {\n",
    "        IntSequence sequence = IntSequence.of(3, 1, 4, 1, 5, 9);\n",
    "        while (sequence.hasNext()) {\n",
    "            System.out.println(sequence.next());\n",
    "        }\n",
    "    }\n",
    "}"
   ]
  },
  {
   "cell_type": "code",
   "execution_count": 16,
   "id": "894eded9-a81e-4e11-acf3-bb91e45fb0cb",
   "metadata": {},
   "outputs": [
    {
     "name": "stdout",
     "output_type": "stream",
     "text": [
      "3\n",
      "1\n",
      "4\n",
      "1\n",
      "5\n",
      "9\n"
     ]
    }
   ],
   "source": [
    "ex4a.main(null)"
   ]
  },
  {
   "cell_type": "markdown",
   "id": "e4f32adb-541a-41dd-ab38-0c41695ca325",
   "metadata": {},
   "source": [
    "4. (b) Zaimplementuj statyczną metodę\n",
    "   \n",
    "    **public static** of(**int**...)\n",
    "\n",
    "    w interfejsie `IntSequence`, która zwraca instancję wewnętrznej klasy anonimowej Kolejne wywołania metody `next` zwracają kolejne liczby przechowywane w tej instancji."
   ]
  },
  {
   "cell_type": "code",
   "execution_count": 17,
   "id": "54ed3a6c-bc7d-41f4-b325-ef356223ee40",
   "metadata": {},
   "outputs": [],
   "source": [
    "interface IntSequence {\n",
    "    boolean hasNext();\n",
    "\n",
    "    int next();\n",
    "\n",
    "    static IntSequence of(int... values) {\n",
    "        return new IntSequence() {\n",
    "            private int index = 0;\n",
    "\n",
    "            public boolean hasNext() {\n",
    "                return index < values.length;\n",
    "            }\n",
    "\n",
    "            public int next() {\n",
    "                if (!hasNext()) {\n",
    "                    throw new IllegalStateException(\"No more elements\");\n",
    "                }\n",
    "                return values[index++];\n",
    "            }\n",
    "        };\n",
    "    }\n",
    "}\n",
    "\n",
    "public class ex4b {\n",
    "    public static void main(String[] args) {\n",
    "        IntSequence sequence = IntSequence.of(3, 1, 4, 1, 5, 9);\n",
    "        while (sequence.hasNext()) {\n",
    "            System.out.println(sequence.next());\n",
    "        }\n",
    "    }\n",
    "}"
   ]
  },
  {
   "cell_type": "code",
   "execution_count": 18,
   "id": "88eaed32-0f40-4747-9635-c3f2f3779bc7",
   "metadata": {},
   "outputs": [
    {
     "name": "stdout",
     "output_type": "stream",
     "text": [
      "3\n",
      "1\n",
      "4\n",
      "1\n",
      "5\n",
      "9\n"
     ]
    }
   ],
   "source": [
    "ex4b.main(null)"
   ]
  },
  {
   "cell_type": "markdown",
   "id": "537f0779-5b57-4bfe-a050-c3b606a478ec",
   "metadata": {},
   "source": [
    "5. Zaimplementuj metodę statyczną `constant` w klasie `IntSequence`, która zwraca nieskonczony ciąg \n",
    "stałych. Na przykład` IntSequence.constant(1`) zwraca wartosci ` 1  1  1 ..`., w nieskonczonoś.c"
   ]
  },
  {
   "cell_type": "code",
   "execution_count": 19,
   "id": "54eb6027-6ae6-41b4-829b-92095a80c488",
   "metadata": {},
   "outputs": [],
   "source": [
    "import java.util.Iterator;\n",
    "\n",
    "public class ex5 {\n",
    "    public static Iterable<Integer> constant(final int value) {\n",
    "        return new Iterable<Integer>() {\n",
    "            public Iterator<Integer> iterator() {\n",
    "                return new Iterator<Integer>() {\n",
    "                    public boolean hasNext() {\n",
    "                        return true; // Zawsze zwraca true, ponieważ ciąg jest nieskończony\n",
    "                    }\n",
    "\n",
    "                    public Integer next() {\n",
    "                        return value; // Zwraca wartość ciągłą\n",
    "                    }\n",
    "\n",
    "                    public void remove() {\n",
    "                        throw new UnsupportedOperationException(\"remove\");\n",
    "                    }\n",
    "                };\n",
    "            }\n",
    "        };\n",
    "    }\n",
    "\n",
    "    // Przykładowe użycie:\n",
    "    public static void main(String[] args) {\n",
    "        Iterable<Integer> constantSequence = constant(1);\n",
    "        Iterator<Integer> iterator = constantSequence.iterator();\n",
    "        for (int i = 0; i < 5; i++) {\n",
    "            System.out.println(iterator.next());\n",
    "        }\n",
    "    }\n",
    "}"
   ]
  },
  {
   "cell_type": "code",
   "execution_count": 20,
   "id": "70b2bf99-f47f-4371-a23f-99b99b3d8961",
   "metadata": {},
   "outputs": [
    {
     "name": "stdout",
     "output_type": "stream",
     "text": [
      "1\n",
      "1\n",
      "1\n",
      "1\n",
      "1\n"
     ]
    }
   ],
   "source": [
    "ex5.main(null)"
   ]
  },
  {
   "cell_type": "markdown",
   "id": "fb42e162-c7ec-4237-b984-6db1ff1c3bef",
   "metadata": {},
   "source": [
    "6. Klasa `SquareSequence` nie dostarcza w rzeczywistosci nieskończonej sekwencji kwadratów z powodu przepełnienia całkowitego. Jak konkretnie się zachowuje? Napraw problem poprzez zdefiniowanie interfejsu `Sequence<T>` oraz klasy `SquareSequence`, która implementuje klasę `Sequence<BigInteger>`."
   ]
  },
  {
   "cell_type": "code",
   "execution_count": 21,
   "id": "12c08e5e-a679-4fc9-b6fb-f769069e320b",
   "metadata": {},
   "outputs": [],
   "source": [
    "import java.math.BigInteger;\n",
    "import java.util.Iterator;\n",
    "\n",
    "public class ex6 {\n",
    "    public static void main(String[] args) {\n",
    "        Sequence<BigInteger> squareSequence = new SquareSequence();\n",
    "        Iterator<BigInteger> iterator = squareSequence.iterator();\n",
    "        for (int i = 0; i < 5; i++) {\n",
    "            System.out.println(iterator.next());\n",
    "        }\n",
    "    }\n",
    "}\n",
    "\n",
    "interface Sequence<T> {\n",
    "    Iterator<T> iterator();\n",
    "}\n",
    "\n",
    "class SquareSequence implements Sequence<BigInteger> {\n",
    "    private BigInteger current = BigInteger.ZERO;\n",
    "\n",
    "    public Iterator<BigInteger> iterator() {\n",
    "        return new Iterator<BigInteger>() {\n",
    "            public boolean hasNext() {\n",
    "                return true; // Zawsze zwraca true, ponieważ ciąg jest nieskończony\n",
    "            }\n",
    "\n",
    "            public BigInteger next() {\n",
    "                current = current.add(BigInteger.ONE);\n",
    "                return current.multiply(current); // Zwraca kwadrat kolejnej liczby\n",
    "            }\n",
    "\n",
    "            public void remove() {\n",
    "                throw new UnsupportedOperationException(\"remove\");\n",
    "            }\n",
    "        };\n",
    "    }\n",
    "}"
   ]
  },
  {
   "cell_type": "code",
   "execution_count": 22,
   "id": "70338010-fb04-455b-bbaa-a8d8ea7fd505",
   "metadata": {},
   "outputs": [
    {
     "name": "stdout",
     "output_type": "stream",
     "text": [
      "1\n",
      "4\n",
      "9\n",
      "16\n",
      "25\n"
     ]
    }
   ],
   "source": [
    "ex6.main(null)"
   ]
  }
 ],
 "metadata": {
  "kernelspec": {
   "display_name": "Java",
   "language": "java",
   "name": "java"
  },
  "language_info": {
   "codemirror_mode": "java",
   "file_extension": ".jshell",
   "mimetype": "text/x-java-source",
   "name": "java",
   "pygments_lexer": "java",
   "version": "21.0.1+12-LTS-29"
  }
 },
 "nbformat": 4,
 "nbformat_minor": 5
}
