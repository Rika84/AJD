{
 "cells": [
  {
   "cell_type": "markdown",
   "id": "1498a84a-82ef-4fc8-bf22-bfeb65b7b4a7",
   "metadata": {},
   "source": [
    "## Praca na zajęciach 25.03.24"
   ]
  },
  {
   "cell_type": "markdown",
   "id": "9e3b15ae-68be-4642-81c9-0e46dc7a9c46",
   "metadata": {},
   "source": [
    "### Kateryna Kolioglo"
   ]
  },
  {
   "cell_type": "markdown",
   "id": "371a2ed7-10c8-42c5-98c4-fa13f5ae9c6c",
   "metadata": {},
   "source": [
    "1. Napisz program z jedną zmienną **\"globalną\"**, która jest całkowitą i zaczyna od wartości niezerowej.\n",
    "Program powinien mieć dwa wątki:\n",
    "- `jeden ma zwiększać daną globalną o jeden`\n",
    "- `drugi zmniejszać o 1`\n",
    "\n",
    "oba co sekundę.\n",
    "Po 10 sekundach należy wypisać wartość zmiennej na ekran i zakończyć działanie programu, gwarantując poprawne zatrzymanie wątków."
   ]
  },
  {
   "cell_type": "code",
   "execution_count": 5,
   "id": "1b1876fc-db1e-44f2-b050-bd7c7f75e417",
   "metadata": {},
   "outputs": [],
   "source": [
    "public class ex1 {\n",
    "    private static int globalVariable = 1; // Zmienna globalna\n",
    "\n",
    "    public static void main(String[] args) {\n",
    "        Thread incrementThread = new Thread(new IncrementTask());\n",
    "        Thread decrementThread = new Thread(new DecrementTask());\n",
    "\n",
    "        incrementThread.start();\n",
    "        decrementThread.start();\n",
    "\n",
    "        try {\n",
    "            Thread.sleep(10000); // Czekaj 10 sekund\n",
    "        } catch (InterruptedException e) {\n",
    "            e.printStackTrace();\n",
    "        }\n",
    "\n",
    "        incrementThread.interrupt(); // Przerwij wątek inkrementacji\n",
    "        decrementThread.interrupt(); // Przerwij wątek dekrementacji\n",
    "\n",
    "        // Poczekaj na zakończenie obu wątków\n",
    "        try {\n",
    "            incrementThread.join();\n",
    "            decrementThread.join();\n",
    "        } catch (InterruptedException e) {\n",
    "            e.printStackTrace();\n",
    "        }\n",
    "\n",
    "        // Wyświetl wartość zmiennej globalnej\n",
    "        System.out.println(\"Wartość zmiennej globalnej po 10 sekundach: \" + globalVariable);\n",
    "    }\n",
    "\n",
    "    static class IncrementTask implements Runnable {\n",
    "        @Override\n",
    "        public void run() {\n",
    "            while (!Thread.currentThread().isInterrupted()) {\n",
    "                globalVariable++;\n",
    "                try {\n",
    "                    Thread.sleep(1000);\n",
    "                } catch (InterruptedException e) {\n",
    "                    Thread.currentThread().interrupt();\n",
    "                }\n",
    "            }\n",
    "        }\n",
    "    }\n",
    "\n",
    "    static class DecrementTask implements Runnable {\n",
    "        @Override\n",
    "        public void run() {\n",
    "            while (!Thread.currentThread().isInterrupted()) {\n",
    "                globalVariable--;\n",
    "                try {\n",
    "                    Thread.sleep(1000);\n",
    "                } catch (InterruptedException e) {\n",
    "                    Thread.currentThread().interrupt();\n",
    "                }\n",
    "            }\n",
    "        }\n",
    "    }\n",
    "}"
   ]
  },
  {
   "cell_type": "code",
   "execution_count": 6,
   "id": "c293f3b2-0d39-430a-b64d-736f453b1d5f",
   "metadata": {},
   "outputs": [
    {
     "name": "stdout",
     "output_type": "stream",
     "text": [
      "Wartość zmiennej globalnej po 10 sekundach: 0\n"
     ]
    }
   ],
   "source": [
    "ex1.main(null)"
   ]
  },
  {
   "cell_type": "markdown",
   "id": "fecb820d-5426-4278-a9c6-584d05529507",
   "metadata": {},
   "source": [
    "Albo można inaczej, przy użyciu klasy java.util.concurrent.atomic.AtomicInteger, która zapewnia atomowe operacje na liczbach całkowitych bez potrzeby jawnej synchronizacji:"
   ]
  },
  {
   "cell_type": "code",
   "execution_count": 9,
   "id": "a1a6cfe9-d2e0-4661-80fd-9a3ce95e2362",
   "metadata": {},
   "outputs": [],
   "source": [
    "import java.util.concurrent.atomic.AtomicInteger;\n",
    "\n",
    "public class AtomicExample {\n",
    "    private static AtomicInteger globalVariable = new AtomicInteger(1); // Atomic zmienna\n",
    "\n",
    "    public static void main(String[] args) {\n",
    "        Thread incrementThread = new Thread(new IncrementTask());\n",
    "        Thread decrementThread = new Thread(new DecrementTask());\n",
    "\n",
    "        incrementThread.start();\n",
    "        decrementThread.start();\n",
    "\n",
    "        try {\n",
    "            Thread.sleep(10000); // Oczekiwanie 10 sekund \n",
    "        } catch (InterruptedException e) {\n",
    "            e.printStackTrace();\n",
    "        }\n",
    "\n",
    "        incrementThread.interrupt(); // Przerwanie przepływu inkrementacji\n",
    "        decrementThread.interrupt(); // Przerwanie przepływu dekrementacji\n",
    "\n",
    "        // Oczekiwanie na zakończenie obu wątków\n",
    "        try {\n",
    "            incrementThread.join();\n",
    "            decrementThread.join();\n",
    "        } catch (InterruptedException e) {\n",
    "            e.printStackTrace();\n",
    "        }\n",
    "\n",
    "        // Wyświetla wartość zmiennej globalnej\n",
    "        System.out.println(\"Wartość zmiennej globalnej po 10 sekundach: \" + globalVariable);\n",
    "    }\n",
    "\n",
    "    static class IncrementTask implements Runnable {\n",
    "        @Override\n",
    "        public void run() {\n",
    "            while (!Thread.currentThread().isInterrupted()) {\n",
    "                globalVariable.getAndIncrement();\n",
    "                try {\n",
    "                    Thread.sleep(1000);\n",
    "                } catch (InterruptedException e) {\n",
    "                    Thread.currentThread().interrupt();\n",
    "                }\n",
    "            }\n",
    "        }\n",
    "    }\n",
    "\n",
    "    static class DecrementTask implements Runnable {\n",
    "        @Override\n",
    "        public void run() {\n",
    "            while (!Thread.currentThread().isInterrupted()) {\n",
    "                globalVariable.getAndDecrement();\n",
    "                try {\n",
    "                    Thread.sleep(1000);\n",
    "                } catch (InterruptedException e) {\n",
    "                    Thread.currentThread().interrupt();\n",
    "                }\n",
    "            }\n",
    "        }\n",
    "    }\n",
    "}\n"
   ]
  },
  {
   "cell_type": "code",
   "execution_count": 11,
   "id": "e1de1059-a5a7-4ba6-8a7b-55bd55a46d33",
   "metadata": {},
   "outputs": [
    {
     "name": "stdout",
     "output_type": "stream",
     "text": [
      "Wartość zmiennej globalnej po 10 sekundach: 1\n"
     ]
    }
   ],
   "source": [
    "AtomicExample.main(null)"
   ]
  },
  {
   "cell_type": "markdown",
   "id": "5af80741-224a-4ca1-a1aa-2457e35a1fda",
   "metadata": {},
   "source": [
    "2. Zaimplementuj metody:\n",
    "* `public static void runTogether(Runnable... tasks)`\n",
    "* `public static void runInOrder(Runnable... tasks)`\n",
    "  \n",
    "Pierwsza metoda powinna uruchomić każde zadanie w oddzielnym wątku i zakończyć działanie. Druga metoda powinna uruchomić wszystkie zadania w bieżącym wątku i zakończył działanie po zakończeniu ostatniego z nich."
   ]
  },
  {
   "cell_type": "code",
   "execution_count": 14,
   "id": "3d32629c-c354-47ca-84f0-a876e31740a6",
   "metadata": {},
   "outputs": [],
   "source": [
    "public class ex2 {\n",
    "    public static void main(String[] args) {\n",
    "        // Przykładowe użycie metody runTogether\n",
    "        Runnable task1 = () -> System.out.println(\"Zadanie 1 wykonane w wątku: \" + Thread.currentThread().getName());\n",
    "        Runnable task2 = () -> System.out.println(\"Zadanie 2 wykonane w wątku: \" + Thread.currentThread().getName());\n",
    "        Runnable task3 = () -> System.out.println(\"Zadanie 3 wykonane w wątku: \" + Thread.currentThread().getName());\n",
    "\n",
    "        runTogether(task1, task2, task3);\n",
    "\n",
    "        // Przykładowe użycie metody runInOrder\n",
    "        Runnable task4 = () -> System.out.println(\"Zadanie 4 wykonane w wątku: \" + Thread.currentThread().getName());\n",
    "        Runnable task5 = () -> System.out.println(\"Zadanie 5 wykonane w wątku: \" + Thread.currentThread().getName());\n",
    "        Runnable task6 = () -> System.out.println(\"Zadanie 6 wykonane w wątku: \" + Thread.currentThread().getName());\n",
    "\n",
    "        runInOrder(task4, task5, task6);\n",
    "    }\n",
    "\n",
    "    public static void runTogether(Runnable... tasks) {\n",
    "        for (Runnable task : tasks) {\n",
    "            Thread thread = new Thread(task);\n",
    "            thread.start();\n",
    "        }\n",
    "    }\n",
    "\n",
    "    public static void runInOrder(Runnable... tasks) {\n",
    "        for (Runnable task : tasks) {\n",
    "            task.run();\n",
    "        }\n",
    "    }\n",
    "}"
   ]
  },
  {
   "cell_type": "code",
   "execution_count": 15,
   "id": "c3f523fa-392e-4749-9ca2-d6fd7027f0a7",
   "metadata": {},
   "outputs": [
    {
     "name": "stdout",
     "output_type": "stream",
     "text": [
      "Zadanie 2 wykonane w wątku: Thread-14\n",
      "Zadanie 1 wykonane w wątku: Thread-13\n",
      "Zadanie 3 wykonane w wątku: Thread-15\n",
      "Zadanie 4 wykonane w wątku: IJava-executor-4\n",
      "Zadanie 5 wykonane w wątku: IJava-executor-4\n",
      "Zadanie 6 wykonane w wątku: IJava-executor-4\n"
     ]
    }
   ],
   "source": [
    "ex2.main(null)"
   ]
  },
  {
   "cell_type": "markdown",
   "id": "ff47a810-9163-4fb3-8407-06bfea989637",
   "metadata": {},
   "source": [
    "3. Korzystając z metod `listFiles(FileFilter)` i `isDirectory` z klasy `java.io.File`, napisz metodę zwracającą wszystkie podkatalogi wskazanego katalogu. Wykorzystaj wyrażenie `lambda` zamiast obiektu `FileFilter`. Wykonaj to samo za pomocą wyrażenia z metodą i `anonimowej` klasy wewnętrznej."
   ]
  },
  {
   "cell_type": "code",
   "execution_count": 18,
   "id": "42e92f27-be1d-4f6a-8d48-a68d69f90b90",
   "metadata": {},
   "outputs": [],
   "source": [
    "import java.io.File;\n",
    "import java.io.FileFilter;\n",
    "\n",
    "public class ex3 {\n",
    "    public static void main(String[] args) {\n",
    "        // Wyrażenie lambda\n",
    "        File directory = new File(\"AJD\");\n",
    "        File[] subDirectoriesLambda = getSubDirectories(directory, file -> file.isDirectory());\n",
    "        if (subDirectoriesLambda != null) {\n",
    "            System.out.println(\"Podkatalogi (lambda):\");\n",
    "            printSubDirectories(subDirectoriesLambda);\n",
    "        } else {\n",
    "            System.out.println(\"Brak podkatalogów (lambda)\");\n",
    "        }\n",
    "\n",
    "        // Anonimowa klasa wewnętrzna\n",
    "        File[] subDirectoriesAnonymous = getSubDirectories(directory, new FileFilter() {\n",
    "            @Override\n",
    "            public boolean accept(File file) {\n",
    "                return file.isDirectory();\n",
    "            }\n",
    "        });\n",
    "        if (subDirectoriesAnonymous != null) {\n",
    "            System.out.println(\"\\nPodkatalogi (anonimowa klasa wewnętrzna):\");\n",
    "            printSubDirectories(subDirectoriesAnonymous);\n",
    "        } else {\n",
    "            System.out.println(\"Brak podkatalogów (anonimowa klasa wewnętrzna)\");\n",
    "        }\n",
    "    }\n",
    "\n",
    "    public static File[] getSubDirectories(File directory, FileFilter filter) {\n",
    "        if (directory.exists() && directory.isDirectory()) {\n",
    "            return directory.listFiles(filter);\n",
    "        } else {\n",
    "            System.out.println(\"Podany plik nie istnieje lub nie jest katalogiem.\");\n",
    "            return null;\n",
    "        }\n",
    "    }\n",
    "\n",
    "    public static void printSubDirectories(File[] subDirectories) {\n",
    "        for (File subDirectory : subDirectories) {\n",
    "            System.out.println(subDirectory.getName());\n",
    "        }\n",
    "    }\n",
    "}"
   ]
  },
  {
   "cell_type": "code",
   "execution_count": 19,
   "id": "6aa8c0b2-9371-458b-8291-d468a8503b59",
   "metadata": {},
   "outputs": [
    {
     "name": "stdout",
     "output_type": "stream",
     "text": [
      "Podany plik nie istnieje lub nie jest katalogiem.\n",
      "Brak podkatalogów (lambda)\n",
      "Podany plik nie istnieje lub nie jest katalogiem.\n",
      "Brak podkatalogów (anonimowa klasa wewnętrzna)\n"
     ]
    }
   ],
   "source": [
    "ex3.main(null)"
   ]
  }
 ],
 "metadata": {
  "kernelspec": {
   "display_name": "Java",
   "language": "java",
   "name": "java"
  },
  "language_info": {
   "codemirror_mode": "java",
   "file_extension": ".jshell",
   "mimetype": "text/x-java-source",
   "name": "java",
   "pygments_lexer": "java",
   "version": "21.0.1+12-LTS-29"
  }
 },
 "nbformat": 4,
 "nbformat_minor": 5
}
