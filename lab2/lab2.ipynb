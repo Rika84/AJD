{
 "cells": [
  {
   "cell_type": "markdown",
   "id": "c1666ebb-b3c1-4f56-8942-cf08f9e21088",
   "metadata": {},
   "source": [
    "## Zadania z programowania w języku Java"
   ]
  },
  {
   "cell_type": "markdown",
   "id": "e8f25ca1-302e-488f-8432-ca5541869870",
   "metadata": {},
   "source": [
    "### Laboratorium 2. Interfejsy i wyrazenia lambda\n",
    "#### Kateryna Kolioglo"
   ]
  },
  {
   "cell_type": "markdown",
   "id": "101ce365-9ca0-467f-949b-c4614c489ec7",
   "metadata": {},
   "source": [
    "7. W tym ćwiczeniu masz za zadanie sprawdzić, co się stanie po dodaniu metody do interfejsu. W Java 7 zaimplementuj klasę `DigitSequence`, która implementuje `Iterator<Integer>`, nie `IntSequence`. Utwórz metody `hasNext`, `next` i nierobiącą niczego metodę `remove`. Napisz program, który wyswietla elementy instancji. W Java 8 klasa `Iterator` ma inną metodę, `forEachRemaining`. Czy Twój kod nadal się kompiluje po przejsciu na Java 8? Jeśli umieścisz klasę z Java 7 w pliku JAR i nie będziesz jej kompilować ponownie, czy zadziała w Java 8? A co, jeśli wywołasz metodę `forEachRemaining`? Poza tym metoda `remove` stała się domyslną metodą w Java 8 wywołującą wyjątek `UnsupportedOperationException`. Co się stanie, jeśli metoda `remove` zostanie wywołana na instancji Twojej klasy?"
   ]
  },
  {
   "cell_type": "code",
   "execution_count": 3,
   "id": "3cde6d7d-2588-43ff-b7eb-b6cbd0ec92aa",
   "metadata": {},
   "outputs": [],
   "source": [
    "//Java 7\n",
    "import java.util.Iterator;\n",
    "\n",
    "public class ex7 {\n",
    "    public static class DigitSequence implements Iterator<Integer> {\n",
    "        private int number;\n",
    "\n",
    "        public DigitSequence(int number) {\n",
    "            this.number = number;\n",
    "        }\n",
    "\n",
    "        @Override\n",
    "        public boolean hasNext() {\n",
    "            // Sprawdzamy, czy liczba ma jeszcze cyfry do zwrócenia\n",
    "            return number != 0;\n",
    "        }\n",
    "\n",
    "        @Override\n",
    "        public Integer next() {\n",
    "            // Zwracamy ostatnią cyfrę liczby\n",
    "            int digit = number % 10;\n",
    "            number /= 10;\n",
    "            return digit;\n",
    "        }\n",
    "\n",
    "        @Override\n",
    "        public void remove() {\n",
    "            throw new UnsupportedOperationException(\"remove\");\n",
    "        }\n",
    "    }\n",
    "\n",
    "    public static void main(String[] args) {\n",
    "        DigitSequence sequence = new DigitSequence(12345);\n",
    "        while (sequence.hasNext()) {\n",
    "            System.out.println(sequence.next());\n",
    "        }\n",
    "    }\n",
    "}"
   ]
  },
  {
   "cell_type": "code",
   "execution_count": 4,
   "id": "dd14c8cf-4687-4aea-a8e5-ac29b402a3a6",
   "metadata": {},
   "outputs": [
    {
     "name": "stdout",
     "output_type": "stream",
     "text": [
      "5\n",
      "4\n",
      "3\n",
      "2\n",
      "1\n"
     ]
    }
   ],
   "source": [
    "ex7.main(null);"
   ]
  },
  {
   "cell_type": "markdown",
   "id": "5ff4cbc1-281d-4b36-94fd-3a0e9b705be0",
   "metadata": {},
   "source": [
    "- Czy kod nadal się kompiluje po przejściu na Java 8?\n",
    "Tak, kod będzie nadal kompilowalny, ponieważ metody `hasNext`, `next`, i `remove` są nadal zgodne z interfejsem Iterator w Java 8.\n",
    "\n",
    "- Czy umieszczenie klasy z Java 7 w pliku JAR i brak ponownej kompilacji zadziała w Java 8?\n",
    "Tak, zazwyczaj plik JAR zawierający skompilowany kod Java 7 będzie działał w Java 8, ponieważ Java jest zazwyczaj wstecznie kompatybilna. Jednak nie możemy korzystać z nowych funkcji wprowadzonych w Java 8 bez ponownej kompilacji kodu źródłowego.\n",
    "\n",
    "- Co się stanie, jeśli wywołasz metodę `forEachRemaining`?\n",
    "Jeśli wywołasz metodę `forEachRemaining` na instancji `DigitSequence`, otrzymasz wyjątek `UnsupportedOperationException`, ponieważ ta metoda nie została zaimplementowana w naszej klasie.\n",
    "\n",
    "- Co się stanie, jeśli metoda `remove` zostanie wywołana na instancji Twojej klasy?\n",
    "Jeśli metoda remove zostanie wywołana na instancji DigitSequence, również otrzymasz wyjątek `UnsupportedOperationException`, ponieważ nie zaimplementowaliśmy tej metody. W Java 8 metoda remove została zdefiniowana jako domyślna metoda w interfejsie `Iterator`, która zgłasza ten wyjątek."
   ]
  },
  {
   "cell_type": "markdown",
   "id": "6e566061-2d8b-4dfb-8afe-74444736b482",
   "metadata": {},
   "source": [
    "8. Zaimplementuj metodę `void luckySort(ArrayList<String> strings, Comparator<String> comp)`, która wywołuje `Collections.shuffle` na tablicy typu `ArrayList` do chwili, gdy elementy będą uporządkowane rosnąco w sposób okreslony przez komparator."
   ]
  },
  {
   "cell_type": "code",
   "execution_count": 7,
   "id": "2a6ea9fd-ea26-4b54-bd76-bd48b7d44a1a",
   "metadata": {},
   "outputs": [],
   "source": [
    "import java.util.ArrayList;\n",
    "import java.util.Collections;\n",
    "import java.util.Comparator;\n",
    "\n",
    "public class ex8 {\n",
    "\n",
    "    public static void main(String[] args) {\n",
    "        ArrayList<String> strings = new ArrayList<>();\n",
    "        strings.add(\"banana\");\n",
    "        strings.add(\"apple\");\n",
    "        strings.add(\"orange\");\n",
    "        strings.add(\"grape\");\n",
    "\n",
    "        Comparator<String> comp = Comparator.naturalOrder(); // Ustawiamy porządek naturalny\n",
    "\n",
    "        System.out.println(\"Przed luckySort:\");\n",
    "        System.out.println(strings);\n",
    "\n",
    "        luckySort(strings, comp);\n",
    "\n",
    "        System.out.println(\"Po luckySort:\");\n",
    "        System.out.println(strings);\n",
    "    }\n",
    "\n",
    "    public static void luckySort(ArrayList<String> strings, Comparator<String> comp) {\n",
    "        while (!isSorted(strings, comp)) { // Dopóki lista nie jest posortowana\n",
    "            Collections.shuffle(strings); // Tasujemy elementy\n",
    "        }\n",
    "    }\n",
    "\n",
    "    public static boolean isSorted(ArrayList<String> strings, Comparator<String> comp) {\n",
    "        for (int i = 0; i < strings.size() - 1; i++) {\n",
    "            // Jeśli sąsiadujące elementy nie są w odpowiedniej kolejności, lista nie jest\n",
    "            // posortowana\n",
    "            if (comp.compare(strings.get(i), strings.get(i + 1)) > 0) {\n",
    "                return false;\n",
    "            }\n",
    "        }\n",
    "        return true;\n",
    "    }\n",
    "}"
   ]
  },
  {
   "cell_type": "code",
   "execution_count": 8,
   "id": "6bbadcfb-ece6-4004-bbcd-d8a9c5ff7f20",
   "metadata": {},
   "outputs": [
    {
     "name": "stdout",
     "output_type": "stream",
     "text": [
      "Przed luckySort:\n",
      "[banana, apple, orange, grape]\n",
      "Po luckySort:\n",
      "[apple, banana, grape, orange]\n"
     ]
    }
   ],
   "source": [
    "ex8.main(null)"
   ]
  },
  {
   "cell_type": "markdown",
   "id": "d34e2d22-ae7a-4d93-9af0-d49758fa7d21",
   "metadata": {},
   "source": [
    "9. Zaimplementuj klasę `Greeter`, która implementuje interfejs `Runnable` i w której metoda run wyświetla n kopii tekstu **\"Witaj, \" + target**, gdzie **n** i **target** są ustawiane w konstruktorze. Stwórz dwie instancje z róznymi komunikatami i wykonaj je równolegle w dwóch wątkach."
   ]
  },
  {
   "cell_type": "code",
   "execution_count": 31,
   "id": "92cb450d-3f81-4f3e-a02c-baaf087fee2d",
   "metadata": {},
   "outputs": [],
   "source": [
    "public class ex9 {\n",
    "    public static class Greeter implements Runnable {\n",
    "        private String target;\n",
    "        private int n;\n",
    "\n",
    "        public Greeter(String target, int n) {\n",
    "            this.target = target;\n",
    "            this.n = n;\n",
    "        }\n",
    "\n",
    "        @Override\n",
    "        public void run() {\n",
    "            for (int i = 0; i < n; i++) {\n",
    "                System.out.println(\"Witaj, \" + target);\n",
    "            }\n",
    "        }\n",
    "    }\n",
    "\n",
    "    public static void main(String[] args) {\n",
    "    // Tworzymy dwie instancje Greeter z różnymi komunikatami i uruchamiamy je równolegle w dwóch wątkach\n",
    "    Greeter greeter1 = new Greeter(\"świecie\", 5);\n",
    "    Greeter greeter2 = new Greeter(\"moja droga\", 3);\n",
    "\n",
    "    Thread thread1 = new Thread(greeter1);\n",
    "    Thread thread2 = new Thread(greeter2);\n",
    "\n",
    "    thread1.start();\n",
    "    thread2.start();\n",
    "\n",
    "    try {\n",
    "        // Czekamy na zakończenie obu wątków\n",
    "        thread1.join();\n",
    "        thread2.join();\n",
    "    } catch (InterruptedException e) {\n",
    "        e.printStackTrace();\n",
    "    }\n",
    "}\n",
    "}"
   ]
  },
  {
   "cell_type": "code",
   "execution_count": 32,
   "id": "7788ed05-2a06-4d02-b823-d498cb636c98",
   "metadata": {},
   "outputs": [
    {
     "name": "stdout",
     "output_type": "stream",
     "text": [
      "Witaj, świecie\n",
      "Witaj, świecie\n",
      "Witaj, świecie\n",
      "Witaj, świecie\n",
      "Witaj, świecie\n",
      "Witaj, moja droga\n",
      "Witaj, moja droga\n",
      "Witaj, moja droga\n"
     ]
    }
   ],
   "source": [
    "ex9.main(null)"
   ]
  },
  {
   "cell_type": "markdown",
   "id": "b451ae6f-ae07-47a7-8121-f70df5eaa3d6",
   "metadata": {},
   "source": [
    "Czekamy na zakończenie wątków przed zakończeniem programu głównego, używając metody `join` na wątkach. W czwiczeniach jest podany zwykły kod, a w jupyter inny dla poprawności dzialania."
   ]
  },
  {
   "cell_type": "markdown",
   "id": "62d874b5-bae8-4536-b3e1-3e624a1bb106",
   "metadata": {},
   "source": [
    "10. Zaimplementuj metody:\n",
    "    \n",
    "`public static void runTogether(Runnable... tasks)`\n",
    "\n",
    "`public static void runInOrder(Runnable... tasks)`\n",
    "\n",
    "Pierwsza metoda powinna uruchomic każde zadanie w oddzielnym wątku i zakończyć działanie. Druga metoda powinna uruchomić wszystkie zadania w bieżącym wątku i zakończyć działanie po zakończeniu ostatniego z nich."
   ]
  },
  {
   "cell_type": "code",
   "execution_count": 33,
   "id": "0ebaad69-aa73-4880-b85a-f00aa2921a34",
   "metadata": {},
   "outputs": [],
   "source": [
    "public class ex10 {\n",
    "    public static class TaskRunner {\n",
    "        public static void runTogether(Runnable... tasks) {\n",
    "            Thread[] threads = new Thread[tasks.length]; // Tworzymy tablicę wątków\n",
    "\n",
    "            // Tworzymy i uruchamiamy oddzielny wątek dla każdego zadania\n",
    "            for (int i = 0; i < tasks.length; i++) {\n",
    "                threads[i] = new Thread(tasks[i]);\n",
    "                threads[i].start();\n",
    "            }\n",
    "\n",
    "            // Czekamy na zakończenie wszystkich wątków\n",
    "            for (Thread thread : threads) {\n",
    "                try {\n",
    "                    thread.join();\n",
    "                } catch (InterruptedException e) {\n",
    "                    e.printStackTrace();\n",
    "                }\n",
    "            }\n",
    "        }\n",
    "\n",
    "        public static void runInOrder(Runnable... tasks) {\n",
    "            // Wykonujemy wszystkie zadania w bieżącym wątku\n",
    "            for (Runnable task : tasks) {\n",
    "                task.run();\n",
    "            }\n",
    "        }\n",
    "    }\n",
    "\n",
    "    public static void main(String[] args) {\n",
    "        // Przykładowe zadania\n",
    "        Runnable task1 = () -> System.out.println(\"Zadanie 1\");\n",
    "        Runnable task2 = () -> System.out.println(\"Zadanie 2\");\n",
    "        Runnable task3 = () -> System.out.println(\"Zadanie 3\");\n",
    "\n",
    "        // Uruchamiamy wszystkie zadania równolegle\n",
    "        System.out.println(\"Zadania równolegle: \");\n",
    "        TaskRunner.runTogether(task1, task2, task3);\n",
    "\n",
    "        // Uruchamiamy wszystkie zadania w kolejności\n",
    "        System.out.println(\"Zadania w kolejności: \");\n",
    "        TaskRunner.runInOrder(task1, task2, task3);\n",
    "    }\n",
    "}"
   ]
  },
  {
   "cell_type": "code",
   "execution_count": 34,
   "id": "475c6572-c81d-46f9-9123-a46ec6a86395",
   "metadata": {},
   "outputs": [
    {
     "name": "stdout",
     "output_type": "stream",
     "text": [
      "Zadania równolegle: \n",
      "Zadanie 1\n",
      "Zadanie 2\n",
      "Zadanie 3\n",
      "Zadania w kolejności: \n",
      "Zadanie 1\n",
      "Zadanie 2\n",
      "Zadanie 3\n"
     ]
    }
   ],
   "source": [
    "ex10.main(null)"
   ]
  }
 ],
 "metadata": {
  "kernelspec": {
   "display_name": "Java",
   "language": "java",
   "name": "java"
  },
  "language_info": {
   "codemirror_mode": "java",
   "file_extension": ".jshell",
   "mimetype": "text/x-java-source",
   "name": "Java",
   "pygments_lexer": "java",
   "version": "21.0.1+12-LTS-29"
  }
 },
 "nbformat": 4,
 "nbformat_minor": 5
}
